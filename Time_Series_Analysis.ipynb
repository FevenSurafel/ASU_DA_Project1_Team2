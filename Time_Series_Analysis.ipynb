{
 "cells": [
  {
   "cell_type": "markdown",
   "id": "7367d871-dc19-4357-be07-19b8fe127ab8",
   "metadata": {},
   "source": [
    "# Analysis of Deaths in the US  2005 thru 2015"
   ]
  },
  {
   "cell_type": "code",
   "execution_count": 10,
   "id": "3d074eb4-c2fe-45cc-9aeb-9f96d3e87c5c",
   "metadata": {},
   "outputs": [],
   "source": [
    "%matplotlib widget"
   ]
  },
  {
   "cell_type": "code",
   "execution_count": 16,
   "id": "d8a5e6fb-494d-4db2-b150-9278e570da53",
   "metadata": {},
   "outputs": [],
   "source": [
    "# Import Numpy for calculations and matplotlib for charting\n",
    "import numpy as np\n",
    "import matplotlib.pyplot as plt\n",
    "import pandas as pd\n",
    "from pathlib import Path\n",
    "import os"
   ]
  },
  {
   "cell_type": "code",
   "execution_count": 17,
   "id": "f74abbe9-a188-479e-802f-1492a4ed2e9b",
   "metadata": {},
   "outputs": [],
   "source": [
    "#Construct file paths for csv files\n",
    "#2005 - 2015\n",
    "file_path_2005 = Path(\"cleaned_data_csv_files/clean_output_2005_DD_df.csv\")\n",
    "file_path_2006 = Path(\"cleaned_data_csv_files/clean_output_2006_DD_df.csv\")\n",
    "file_path_2007 = Path(\"cleaned_data_csv_files/clean_output_2007_DD_df.csv\")\n",
    "file_path_2008 = Path(\"cleaned_data_csv_files/clean_output_2008_DD_df.csv\")\n",
    "file_path_2009 = Path(\"cleaned_data_csv_files/clean_output_2009_DD_df.csv\")\n",
    "file_path_2010 = Path(\"cleaned_data_csv_files/clean_output_2010_DD_df.csv\")\n",
    "file_path_2011 = Path(\"cleaned_data_csv_files/clean_output_2011_DD_df.csv\")\n",
    "file_path_2012 = Path(\"cleaned_data_csv_files/clean_output_2012_DD_df.csv\")\n",
    "file_path_2013 = Path(\"cleaned_data_csv_files/clean_output_2013_DD_df.csv\")\n",
    "file_path_2014 = Path(\"cleaned_data_csv_files/clean_output_2014_DD_df.csv\")\n",
    "file_path_2015 = Path(\"cleaned_data_csv_files/clean_output_2015_DD_df.csv\")"
   ]
  },
  {
   "cell_type": "code",
   "execution_count": 18,
   "id": "5bf9db98-f6f8-4ad6-9d43-f58c94f94ceb",
   "metadata": {},
   "outputs": [],
   "source": [
    "# Load the clean 2005 data CSV file into a Pandas DataFrame\n",
    "clean_2005_DD_df = pd.read_csv(\"cleaned_data_csv_files/clean_output_2005_DD_df.csv\", low_memory=False)\n",
    "\n",
    "# Load the clean csv data for the rest of the years into a Pandas DataFrame\n",
    "clean_2006_DD_df = pd.read_csv(\"cleaned_data_csv_files/clean_output_2006_DD_df.csv\", low_memory=False)\n",
    "clean_2007_DD_df = pd.read_csv(\"cleaned_data_csv_files/clean_output_2007_DD_df.csv\", low_memory=False)\n",
    "clean_2008_DD_df = pd.read_csv(\"cleaned_data_csv_files/clean_output_2008_DD_df.csv\", low_memory=False)\n",
    "clean_2009_DD_df = pd.read_csv(\"cleaned_data_csv_files/clean_output_2009_DD_df.csv\", low_memory=False)\n",
    "clean_2010_DD_df = pd.read_csv(\"cleaned_data_csv_files/clean_output_2010_DD_df.csv\", low_memory=False)\n",
    "clean_2011_DD_df = pd.read_csv(\"cleaned_data_csv_files/clean_output_2011_DD_df.csv\", low_memory=False)\n",
    "clean_2012_DD_df = pd.read_csv(\"cleaned_data_csv_files/clean_output_2012_DD_df.csv\", low_memory=False)\n",
    "clean_2013_DD_df = pd.read_csv(\"cleaned_data_csv_files/clean_output_2013_DD_df.csv\", low_memory=False)\n",
    "clean_2014_DD_df = pd.read_csv(\"cleaned_data_csv_files/clean_output_2014_DD_df.csv\", low_memory=False)\n",
    "clean_2015_DD_df = pd.read_csv(\"cleaned_data_csv_files/clean_output_2015_DD_df.csv\", low_memory=False)"
   ]
  },
  {
   "cell_type": "code",
   "execution_count": 19,
   "id": "bc65ba8c-6f0a-49c6-8b9e-a78affc44c2c",
   "metadata": {},
   "outputs": [
    {
     "ename": "KeyError",
     "evalue": "'year_of_death'",
     "output_type": "error",
     "traceback": [
      "\u001b[0;31m---------------------------------------------------------------------------\u001b[0m",
      "\u001b[0;31mKeyError\u001b[0m                                  Traceback (most recent call last)",
      "File \u001b[0;32m/opt/anaconda3/envs/dev_2/lib/python3.10/site-packages/pandas/core/indexes/base.py:3790\u001b[0m, in \u001b[0;36mIndex.get_loc\u001b[0;34m(self, key)\u001b[0m\n\u001b[1;32m   3789\u001b[0m \u001b[38;5;28;01mtry\u001b[39;00m:\n\u001b[0;32m-> 3790\u001b[0m     \u001b[38;5;28;01mreturn\u001b[39;00m \u001b[38;5;28;43mself\u001b[39;49m\u001b[38;5;241;43m.\u001b[39;49m\u001b[43m_engine\u001b[49m\u001b[38;5;241;43m.\u001b[39;49m\u001b[43mget_loc\u001b[49m\u001b[43m(\u001b[49m\u001b[43mcasted_key\u001b[49m\u001b[43m)\u001b[49m\n\u001b[1;32m   3791\u001b[0m \u001b[38;5;28;01mexcept\u001b[39;00m \u001b[38;5;167;01mKeyError\u001b[39;00m \u001b[38;5;28;01mas\u001b[39;00m err:\n",
      "File \u001b[0;32mindex.pyx:152\u001b[0m, in \u001b[0;36mpandas._libs.index.IndexEngine.get_loc\u001b[0;34m()\u001b[0m\n",
      "File \u001b[0;32mindex.pyx:181\u001b[0m, in \u001b[0;36mpandas._libs.index.IndexEngine.get_loc\u001b[0;34m()\u001b[0m\n",
      "File \u001b[0;32mpandas/_libs/hashtable_class_helper.pxi:7080\u001b[0m, in \u001b[0;36mpandas._libs.hashtable.PyObjectHashTable.get_item\u001b[0;34m()\u001b[0m\n",
      "File \u001b[0;32mpandas/_libs/hashtable_class_helper.pxi:7088\u001b[0m, in \u001b[0;36mpandas._libs.hashtable.PyObjectHashTable.get_item\u001b[0;34m()\u001b[0m\n",
      "\u001b[0;31mKeyError\u001b[0m: 'year_of_death'",
      "\nThe above exception was the direct cause of the following exception:\n",
      "\u001b[0;31mKeyError\u001b[0m                                  Traceback (most recent call last)",
      "Cell \u001b[0;32mIn[19], line 3\u001b[0m\n\u001b[1;32m      1\u001b[0m clean_2005_DD_df[\u001b[38;5;124m'\u001b[39m\u001b[38;5;124mmonth_of_death_num\u001b[39m\u001b[38;5;124m'\u001b[39m] \u001b[38;5;241m=\u001b[39m pd\u001b[38;5;241m.\u001b[39mto_datetime(clean_2005_DD_df[\u001b[38;5;124m'\u001b[39m\u001b[38;5;124mmonth_of_death_text\u001b[39m\u001b[38;5;124m'\u001b[39m], \u001b[38;5;28mformat\u001b[39m\u001b[38;5;241m=\u001b[39m\u001b[38;5;124m'\u001b[39m\u001b[38;5;124m%\u001b[39m\u001b[38;5;124mB\u001b[39m\u001b[38;5;124m'\u001b[39m)\u001b[38;5;241m.\u001b[39mdt\u001b[38;5;241m.\u001b[39mmonth\n\u001b[1;32m      2\u001b[0m clean_2005_DD_df[\u001b[38;5;124m'\u001b[39m\u001b[38;5;124myear_of_death\u001b[39m\u001b[38;5;124m'\u001b[39m] \u001b[38;5;241m=\u001b[39m \u001b[38;5;241m2006\u001b[39m\n\u001b[0;32m----> 3\u001b[0m clean_2005_DD_df[\u001b[38;5;124m\"\u001b[39m\u001b[38;5;124mmonth_year\u001b[39m\u001b[38;5;124m\"\u001b[39m] \u001b[38;5;241m=\u001b[39m \u001b[38;5;124mf\u001b[39m\u001b[38;5;124m\"\u001b[39m\u001b[38;5;132;01m{\u001b[39;00m\u001b[43mclean_2006_DD_df\u001b[49m\u001b[43m[\u001b[49m\u001b[38;5;124;43m'\u001b[39;49m\u001b[38;5;124;43myear_of_death\u001b[39;49m\u001b[38;5;124;43m'\u001b[39;49m\u001b[43m]\u001b[49m\u001b[38;5;132;01m}\u001b[39;00m\u001b[38;5;124m-\u001b[39m\u001b[38;5;132;01m{\u001b[39;00mclean_2006_DD_df[\u001b[38;5;124m'\u001b[39m\u001b[38;5;124mmonth_of_death_num\u001b[39m\u001b[38;5;124m'\u001b[39m]\u001b[38;5;132;01m}\u001b[39;00m\u001b[38;5;124m-01\u001b[39m\u001b[38;5;124m\"\u001b[39m\n\u001b[1;32m      4\u001b[0m clean_2005_DD_df[\u001b[38;5;124m'\u001b[39m\u001b[38;5;124mmonth_year\u001b[39m\u001b[38;5;124m'\u001b[39m] \u001b[38;5;241m=\u001b[39m pd\u001b[38;5;241m.\u001b[39mto_datetime(clean_2005_DD_df[\u001b[38;5;124m'\u001b[39m\u001b[38;5;124myear_of_death\u001b[39m\u001b[38;5;124m'\u001b[39m]\u001b[38;5;241m.\u001b[39mastype(\u001b[38;5;28mstr\u001b[39m) \u001b[38;5;241m+\u001b[39m \u001b[38;5;124m'\u001b[39m\u001b[38;5;124m-\u001b[39m\u001b[38;5;124m'\u001b[39m \u001b[38;5;241m+\u001b[39m clean_2005_DD_df[\u001b[38;5;124m'\u001b[39m\u001b[38;5;124mmonth_of_death_num\u001b[39m\u001b[38;5;124m'\u001b[39m]\u001b[38;5;241m.\u001b[39mastype(\u001b[38;5;28mstr\u001b[39m),\n\u001b[1;32m      5\u001b[0m                                                 \u001b[38;5;28mformat\u001b[39m\u001b[38;5;241m=\u001b[39m\u001b[38;5;124m'\u001b[39m\u001b[38;5;124m%\u001b[39m\u001b[38;5;124mY-\u001b[39m\u001b[38;5;124m%\u001b[39m\u001b[38;5;124mm\u001b[39m\u001b[38;5;124m'\u001b[39m)\n",
      "File \u001b[0;32m/opt/anaconda3/envs/dev_2/lib/python3.10/site-packages/pandas/core/frame.py:3896\u001b[0m, in \u001b[0;36mDataFrame.__getitem__\u001b[0;34m(self, key)\u001b[0m\n\u001b[1;32m   3894\u001b[0m \u001b[38;5;28;01mif\u001b[39;00m \u001b[38;5;28mself\u001b[39m\u001b[38;5;241m.\u001b[39mcolumns\u001b[38;5;241m.\u001b[39mnlevels \u001b[38;5;241m>\u001b[39m \u001b[38;5;241m1\u001b[39m:\n\u001b[1;32m   3895\u001b[0m     \u001b[38;5;28;01mreturn\u001b[39;00m \u001b[38;5;28mself\u001b[39m\u001b[38;5;241m.\u001b[39m_getitem_multilevel(key)\n\u001b[0;32m-> 3896\u001b[0m indexer \u001b[38;5;241m=\u001b[39m \u001b[38;5;28;43mself\u001b[39;49m\u001b[38;5;241;43m.\u001b[39;49m\u001b[43mcolumns\u001b[49m\u001b[38;5;241;43m.\u001b[39;49m\u001b[43mget_loc\u001b[49m\u001b[43m(\u001b[49m\u001b[43mkey\u001b[49m\u001b[43m)\u001b[49m\n\u001b[1;32m   3897\u001b[0m \u001b[38;5;28;01mif\u001b[39;00m is_integer(indexer):\n\u001b[1;32m   3898\u001b[0m     indexer \u001b[38;5;241m=\u001b[39m [indexer]\n",
      "File \u001b[0;32m/opt/anaconda3/envs/dev_2/lib/python3.10/site-packages/pandas/core/indexes/base.py:3797\u001b[0m, in \u001b[0;36mIndex.get_loc\u001b[0;34m(self, key)\u001b[0m\n\u001b[1;32m   3792\u001b[0m     \u001b[38;5;28;01mif\u001b[39;00m \u001b[38;5;28misinstance\u001b[39m(casted_key, \u001b[38;5;28mslice\u001b[39m) \u001b[38;5;129;01mor\u001b[39;00m (\n\u001b[1;32m   3793\u001b[0m         \u001b[38;5;28misinstance\u001b[39m(casted_key, abc\u001b[38;5;241m.\u001b[39mIterable)\n\u001b[1;32m   3794\u001b[0m         \u001b[38;5;129;01mand\u001b[39;00m \u001b[38;5;28many\u001b[39m(\u001b[38;5;28misinstance\u001b[39m(x, \u001b[38;5;28mslice\u001b[39m) \u001b[38;5;28;01mfor\u001b[39;00m x \u001b[38;5;129;01min\u001b[39;00m casted_key)\n\u001b[1;32m   3795\u001b[0m     ):\n\u001b[1;32m   3796\u001b[0m         \u001b[38;5;28;01mraise\u001b[39;00m InvalidIndexError(key)\n\u001b[0;32m-> 3797\u001b[0m     \u001b[38;5;28;01mraise\u001b[39;00m \u001b[38;5;167;01mKeyError\u001b[39;00m(key) \u001b[38;5;28;01mfrom\u001b[39;00m \u001b[38;5;21;01merr\u001b[39;00m\n\u001b[1;32m   3798\u001b[0m \u001b[38;5;28;01mexcept\u001b[39;00m \u001b[38;5;167;01mTypeError\u001b[39;00m:\n\u001b[1;32m   3799\u001b[0m     \u001b[38;5;66;03m# If we have a listlike key, _check_indexing_error will raise\u001b[39;00m\n\u001b[1;32m   3800\u001b[0m     \u001b[38;5;66;03m#  InvalidIndexError. Otherwise we fall through and re-raise\u001b[39;00m\n\u001b[1;32m   3801\u001b[0m     \u001b[38;5;66;03m#  the TypeError.\u001b[39;00m\n\u001b[1;32m   3802\u001b[0m     \u001b[38;5;28mself\u001b[39m\u001b[38;5;241m.\u001b[39m_check_indexing_error(key)\n",
      "\u001b[0;31mKeyError\u001b[0m: 'year_of_death'"
     ]
    }
   ],
   "source": [
    "clean_2005_DD_df['month_of_death_num'] = pd.to_datetime(clean_2005_DD_df['month_of_death_text'], format='%B').dt.month\n",
    "clean_2005_DD_df['year_of_death'] = 2006\n",
    "clean_2005_DD_df[\"month_year\"] = f\"{clean_2006_DD_df['year_of_death']}-{clean_2006_DD_df['month_of_death_num']}-01\"\n",
    "clean_2005_DD_df['month_year'] = pd.to_datetime(clean_2005_DD_df['year_of_death'].astype(str) + '-' + clean_2005_DD_df['month_of_death_num'].astype(str),\n",
    "                                                format='%Y-%m')"
   ]
  },
  {
   "cell_type": "code",
   "execution_count": 15,
   "id": "cea53544-6c50-46b0-8b1f-20f508ca3b38",
   "metadata": {},
   "outputs": [],
   "source": [
    "clean_2006_DD_df['month_of_death_num'] = pd.to_datetime(clean_2006_DD_df['month_of_death_text'], format='%B').dt.month\n",
    "clean_2006_DD_df['year_of_death'] = 2006\n",
    "clean_2006_DD_df[\"month_year\"] = f\"{clean_2006_DD_df['year_of_death']}-{clean_2006_DD_df['month_of_death_num']}-01\"\n",
    "clean_2006_DD_df['month_year'] = pd.to_datetime(clean_2006_DD_df['year_of_death'].astype(str) + '-' + clean_2006_DD_df['month_of_death_num'].astype(str),\n",
    "                                                format='%Y-%m')"
   ]
  },
  {
   "cell_type": "code",
   "execution_count": null,
   "id": "7fe52a04-a203-4419-9b1a-3aef21588045",
   "metadata": {},
   "outputs": [],
   "source": [
    "clean_2007_DD_df['month_of_death_num'] = pd.to_datetime(clean_2007_DD_df['month_of_death_text'], format='%B').dt.month\n",
    "clean_2007_DD_df['year_of_death'] = 2007\n",
    "clean_2007_DD_df[\"month_year\"] = f\"{clean_2007_DD_df['year_of_death']}-{clean_2007_DD_df['month_of_death_num']}-01\"\n",
    "clean_2007_DD_df['month_year'] = pd.to_datetime(clean_2007_DD_df['year_of_death'].astype(str) + '-' + clean_2007_DD_df['month_of_death_num'].astype(str),\n",
    "                                                format='%Y-%m')"
   ]
  },
  {
   "cell_type": "code",
   "execution_count": null,
   "id": "4e3e7991-8ceb-470e-b285-1c12de97e50f",
   "metadata": {},
   "outputs": [],
   "source": [
    "clean_2008_DD_df['month_of_death_num'] = pd.to_datetime(clean_2008_DD_df['month_of_death_text'], format='%B').dt.month\n",
    "clean_2008_DD_df['year_of_death'] = 2008\n",
    "clean_2008_DD_df[\"month_year\"] = f\"{clean_2008_DD_df['year_of_death']}-{clean_2008_DD_df['month_of_death_num']}-01\"\n",
    "clean_2008_DD_df['month_year'] = pd.to_datetime(clean_2008_DD_df['year_of_death'].astype(str) + '-' + clean_2008_DD_df['month_of_death_num'].astype(str),\n",
    "                                                format='%Y-%m')"
   ]
  },
  {
   "cell_type": "code",
   "execution_count": null,
   "id": "992c5dd9-e47a-478f-9ea0-c2cbd0a40771",
   "metadata": {},
   "outputs": [],
   "source": [
    "clean_2009_DD_df['month_of_death_num'] = pd.to_datetime(clean_2009_DD_df['month_of_death_text'], format='%B').dt.month\n",
    "clean_2009_DD_df['year_of_death'] = 2009\n",
    "clean_2009_DD_df[\"month_year\"] = f\"{clean_2009_DD_df['year_of_death']}-{clean_2009_DD_df['month_of_death_num']}-01\"\n",
    "clean_2009_DD_df['month_year'] = pd.to_datetime(clean_2009_DD_df['year_of_death'].astype(str) + '-' + clean_2009_DD_df['month_of_death_num'].astype(str),\n",
    "                                                format='%Y-%m')"
   ]
  },
  {
   "cell_type": "code",
   "execution_count": null,
   "id": "239d89b6-d3bb-4a6d-8a9e-cccfd804b093",
   "metadata": {},
   "outputs": [],
   "source": [
    "clean_2010_DD_df['month_of_death_num'] = pd.to_datetime(clean_2010_DD_df['month_of_death_text'], format='%B').dt.month\n",
    "clean_2010_DD_df['year_of_death'] = 2010\n",
    "clean_2010_DD_df[\"month_year\"] = f\"{clean_2010_DD_df['year_of_death']}-{clean_2010_DD_df['month_of_death_num']}-01\"\n",
    "clean_2010_DD_df['month_year'] = pd.to_datetime(clean_2010_DD_df['year_of_death'].astype(str) + '-' + clean_2010_DD_df['month_of_death_num'].astype(str),\n",
    "                                                format='%Y-%m')"
   ]
  },
  {
   "cell_type": "code",
   "execution_count": null,
   "id": "062134ad-0c3c-4324-afca-e45828834198",
   "metadata": {},
   "outputs": [],
   "source": [
    "clean_2011_DD_df['month_of_death_num'] = pd.to_datetime(clean_2011_DD_df['month_of_death_text'], format='%B').dt.month\n",
    "clean_2011_DD_df['year_of_death'] = 2011\n",
    "clean_2011_DD_df[\"month_year\"] = f\"{clean_2011_DD_df['year_of_death']}-{clean_2011_DD_df['month_of_death_num']}-01\"\n",
    "clean_2011_DD_df['month_year'] = pd.to_datetime(clean_2011_DD_df['year_of_death'].astype(str) + '-' + clean_2011_DD_df['month_of_death_num'].astype(str),\n",
    "                                                format='%Y-%m')"
   ]
  },
  {
   "cell_type": "code",
   "execution_count": null,
   "id": "bd3bfb71-670b-4d4f-83a8-55c7fa4385fe",
   "metadata": {},
   "outputs": [],
   "source": [
    "clean_2012_DD_df['month_of_death_num'] = pd.to_datetime(clean_2012_DD_df['month_of_death_text'], format='%B').dt.month\n",
    "clean_2012_DD_df['year_of_death'] = 2012\n",
    "clean_2012_DD_df[\"month_year\"] = f\"{clean_2012_DD_df['year_of_death']}-{clean_2012_DD_df['month_of_death_num']}-01\"\n",
    "clean_2012_DD_df['month_year'] = pd.to_datetime(clean_2012_DD_df['year_of_death'].astype(str) + '-' + clean_2012_DD_df['month_of_death_num'].astype(str),\n",
    "                                                format='%Y-%m')"
   ]
  },
  {
   "cell_type": "code",
   "execution_count": null,
   "id": "0a5b1bfd-7f53-4ab4-877e-7684584a3bbf",
   "metadata": {},
   "outputs": [],
   "source": [
    "clean_2013_DD_df['month_of_death_num'] = pd.to_datetime(clean_2013_DD_df['month_of_death_text'], format='%B').dt.month\n",
    "clean_2013_DD_df['year_of_death'] = 2011\n",
    "clean_2013_DD_df[\"month_year\"] = f\"{clean_2013_DD_df['year_of_death']}-{clean_2013_DD_df['month_of_death_num']}-01\"\n",
    "clean_2013_DD_df['month_year'] = pd.to_datetime(clean_2013_DD_df['year_of_death'].astype(str) + '-' + clean_2013_DD_df['month_of_death_num'].astype(str),\n",
    "                                                format='%Y-%m')"
   ]
  },
  {
   "cell_type": "code",
   "execution_count": null,
   "id": "83b82a92-4063-4771-bf95-91d6f63fc262",
   "metadata": {},
   "outputs": [],
   "source": [
    "clean_2014_DD_df['month_of_death_num'] = pd.to_datetime(clean_2014_DD_df['month_of_death_text'], format='%B').dt.month\n",
    "clean_2014_DD_df['year_of_death'] = 2014\n",
    "clean_2014_DD_df[\"month_year\"] = f\"{clean_2014_DD_df['year_of_death']}-{clean_2014_DD_df['month_of_death_num']}-01\"\n",
    "clean_2014_DD_df['month_year'] = pd.to_datetime(clean_2014_DD_df['year_of_death'].astype(str) + '-' + clean_2014_DD_df['month_of_death_num'].astype(str),\n",
    "                                                format='%Y-%m')"
   ]
  },
  {
   "cell_type": "code",
   "execution_count": null,
   "id": "de536c34-4f7f-4318-9f17-04e5e211549f",
   "metadata": {},
   "outputs": [],
   "source": [
    "clean_2015_DD_df['month_of_death_num'] = pd.to_datetime(clean_2015_DD_df['month_of_death_text'], format='%B').dt.month\n",
    "clean_2015_DD_df['year_of_death'] = 2015\n",
    "clean_2015_DD_df[\"month_year\"] = f\"{clean_2015_DD_df['year_of_death']}-{clean_2015_DD_df['month_of_death_num']}-01\"\n",
    "clean_2015_DD_df['month_year'] = pd.to_datetime(clean_2015_DD_df['year_of_death'].astype(str) + '-' + clean_2015_DD_df['month_of_death_num'].astype(str),\n",
    "                                                format='%Y-%m')"
   ]
  },
  {
   "cell_type": "code",
   "execution_count": null,
   "id": "b750a05e-2666-47e0-b3d1-0ac66feee034",
   "metadata": {},
   "outputs": [],
   "source": [
    "all_years = pd.concat([clean_2006_DD_df, clean_2006_DD_df, clean_2007_DD_df, clean_2008_DD_df, clean_2009_DD_df, clean_2010_DD_df, clean_2011_DD_df,\n",
    "                      clean_2012_DD_df, clean_2013_DD_df, clean_2014_DD_df, clean_2015_DD_df])\n",
    "all_years.columns"
   ]
  },
  {
   "cell_type": "code",
   "execution_count": null,
   "id": "55374ccf-d7eb-48d2-b1ec-8090660f2bc0",
   "metadata": {},
   "outputs": [],
   "source": [
    "#New Dataframe for all the year with heart disease\n",
    "heart_disease_texts = [\"All other forms of chronic ischemic heart disease (I20,I25.1-I25.9)\",\n",
    "                    \"Acute myocardial infarction (I21-I22)\",\n",
    "                    \"Atherosclerotic cardiovascular disease, so described (I25.0)\",\n",
    "                    \"Congestive heart failure (I50.0)\"]\n",
    "# Filter the DataFrame for heart disease related causes\n",
    "all_year_heart_df = all_years[all_years[\"358_cause_recode_text\"].isin(heart_disease_texts)]\n",
    "\n",
    "print(all_year_heart_df.head())"
   ]
  },
  {
   "cell_type": "code",
   "execution_count": null,
   "id": "c71daf39-7ea2-448b-a9e7-0458e99e7401",
   "metadata": {},
   "outputs": [],
   "source": [
    "#New Dataframe for all the year with heart disease\n",
    "lung_disease_texts = [\"Of trachea, bronchus and lung (C33-C34)\",\n",
    "                          \"Other chronic obstructive pulmonary disease (J44)\"]\n",
    "# Filter the DataFrame for lung disease related causes\n",
    "all_year_lung_df = all_years[all_years[\"358_cause_recode_text\"].isin(lung_disease_texts)]\n",
    "\n",
    "print(all_year_lung_df.head())"
   ]
  },
  {
   "cell_type": "code",
   "execution_count": null,
   "id": "9599245f-32fd-4ce8-b2c1-c2e11ec7ac11",
   "metadata": {},
   "outputs": [],
   "source": [
    "#New Dataframe for all the year with heart disease\n",
    "diabetes_disease_texts = [\"Diabetes mellitus (E10-E14)\"]\n",
    "# Filter the DataFrame for lung disease related causes\n",
    "all_year_diabetes_df = all_years[all_years[\"358_cause_recode_text\"].isin(diabetes_disease_texts)]\n",
    "\n",
    "print(all_year_diabetes_df.head())"
   ]
  },
  {
   "cell_type": "code",
   "execution_count": null,
   "id": "e9229074-b733-4c71-8de3-86c6914537f0",
   "metadata": {},
   "outputs": [],
   "source": [
    "# Determine the number of heart disease deaths by sex\n",
    "\n",
    "gender_count_all_year_heart = all_year_heart_df['sex_text']\n",
    "male_count_all_year_heart = len(all_year_heart_df[all_year_heart_df['sex_text'] == 'Male'])\n",
    "female_count_all_year_heart = len(all_year_heart_df[all_year_heart_df['sex_text'] == 'Female'])\n",
    "\n",
    "print(f\"Number of male deaths caused by heart disease in all years: {male_count_all_year_heart}\")\n",
    "print(f\"Number of female deaths caused by heart disease in all years: {female_count_all_year_heart}\")"
   ]
  },
  {
   "cell_type": "code",
   "execution_count": null,
   "id": "075c8be4-5e6a-481a-b0b3-a3009724a5a9",
   "metadata": {},
   "outputs": [],
   "source": [
    "#Create a box and whisker plot to demonstrate the affected\n",
    "# Filter the heart disease dataframe for males and females, excluding age values above 120\n",
    "male_data = all_year_heart_df.loc[(all_year_heart_df['sex_text'] == 'Male') & (all_year_heart_df['detail_age'] <= 120), 'detail_age']\n",
    "female_data = all_year_heart_df.loc[(all_year_heart_df['sex_text'] == 'Female') & (all_year_heart_df['detail_age'] <= 120), 'detail_age']\n",
    "\n",
    "# Create a box and whisker plot for males vs females with age values below 120\n",
    "plt.figure(figsize=(8, 6))\n",
    "plt.boxplot([male_data, female_data], labels=['Male', 'Female'])\n",
    "plt.title('All year (heart) Age Distribution Comparison: Males vs Females (Age <= 120)')\n",
    "plt.xlabel('Gender')\n",
    "plt.ylabel('Age')\n",
    "\n",
    "plt.savefig(\"output/Fig1.png\")\n",
    "plt.show()"
   ]
  },
  {
   "cell_type": "code",
   "execution_count": null,
   "id": "ad47b4ed-a84e-4216-bf12-50e2bcb636e0",
   "metadata": {},
   "outputs": [],
   "source": [
    "# Determine the number of lung disease deaths by sex\n",
    "gender_count_all_year_lung = all_year_lung_df['sex_text']\n",
    "male_count_all_year_lung = len(all_year_lung_df[all_year_lung_df['sex_text'] == 'Male'])\n",
    "female_count_all_year_lung = len(all_year_lung_df[all_year_lung_df['sex_text'] == 'Female'])\n",
    "\n",
    "print(f\"Number of male deaths caused by lung disease in all years: {male_count_all_year_lung}\")\n",
    "print(f\"Number of female deaths caused by lung diseasein all years: {female_count_all_year_lung}\")"
   ]
  },
  {
   "cell_type": "code",
   "execution_count": null,
   "id": "32b820f9-479b-450e-b4b0-8c2822a69976",
   "metadata": {},
   "outputs": [],
   "source": [
    "#Create a box and whisker plot to demonstrate the affected\n",
    "# Filter the lung disease dataframe for males and females, excluding age values above 120\n",
    "male_data = all_year_lung_df.loc[(all_year_lung_df['sex_text'] == 'Male') & (all_year_lung_df['detail_age'] <= 120), 'detail_age']\n",
    "female_data = all_year_lung_df.loc[(all_year_lung_df['sex_text'] == 'Female') & (all_year_lung_df['detail_age'] <= 120), 'detail_age']\n",
    "\n",
    "# Create a box and whisker plot for males vs females with age values below 120\n",
    "plt.figure(figsize=(8, 6))\n",
    "plt.boxplot([male_data, female_data], labels=['Male', 'Female'])\n",
    "plt.title('All year (lung) Age Distribution Comparison: Males vs Females (Age <= 120)')\n",
    "plt.xlabel('Gender')\n",
    "plt.ylabel('Age')\n",
    "\n",
    "plt.savefig(\"output/Fig2.png\")\n",
    "plt.show()"
   ]
  },
  {
   "cell_type": "code",
   "execution_count": null,
   "id": "66096b37-2080-475e-8a16-396dff886afb",
   "metadata": {},
   "outputs": [],
   "source": [
    "gender_count_all_year_diabetes = all_year_diabetes_df['sex_text']\n",
    "male_count_all_year_diabetes = len(all_year_diabetes_df[all_year_diabetes_df['sex_text'] == 'Male'])\n",
    "female_count_all_year_diabetes = len(all_year_diabetes_df[all_year_diabetes_df['sex_text'] == 'Female'])\n",
    "\n",
    "print(f\"Number of male deaths caused by diabetes in all years: {male_count_all_year_diabetes}\")\n",
    "print(f\"Number of female deaths caused by diabetes in all years: {female_count_all_year_diabetes}\")\n"
   ]
  },
  {
   "cell_type": "code",
   "execution_count": null,
   "id": "beb80a91-7b70-4095-8a2d-427afc64e55a",
   "metadata": {},
   "outputs": [],
   "source": [
    "all_years[['day_of_week_of_death_text', 'month_of_death_text']].head()"
   ]
  },
  {
   "cell_type": "code",
   "execution_count": null,
   "id": "cb66aa86-5f27-4a4b-bdf3-2ce7cb2d2a7a",
   "metadata": {},
   "outputs": [],
   "source": [
    "diabetes_2007_df.columns"
   ]
  },
  {
   "cell_type": "code",
   "execution_count": null,
   "id": "e8ed05c9-1c75-48ab-90c7-5a5a6a43656a",
   "metadata": {},
   "outputs": [],
   "source": [
    "all_year_heart_df.groupby('month_year')[\"Death in United States 2007\"].count().plot()\n",
    "all_year_lung_df.groupby('month_year')[\"Death in United States 2007\"].count().plot()\n",
    "all_year_diabetes_df.groupby('month_year')[\"Death in United States 2007\"].count().plot()\n",
    "plt.legend()\n",
    "plt.title('Top 3 disease 2005 - 2015 year deaths')\n",
    "plt.xlabel('Year')  \n",
    "plt.ylabel('Number of Deaths') \n",
    "# Save the plot to a file\n",
    "plt.savefig('output_allyear/top_3_diseases_deaths_2005_2015.png')  # You can change the file name and format as needed\n",
    "\n",
    "# Display the plot (optional)\n",
    "plt.show()"
   ]
  },
  {
   "cell_type": "code",
   "execution_count": null,
   "id": "9bec77e7-7909-4fb6-9535-37e59fe8bd9b",
   "metadata": {},
   "outputs": [],
   "source": [
    "all_year_heart_df.groupby('month_year')[\"Death in United States 2013\"].count().plot()\n",
    "all_year_lung_df.groupby('month_year')[\"Death in United States 20013\"].count().plot()\n",
    "all_year_diabetes_df.groupby('month_year')[\"Death in United States 2013\"].count().plot()\n",
    "plt.legend()\n",
    "plt.title('Top 3 disease 2005 - 2015 year deaths')\n",
    "plt.xlabel('Year')  \n",
    "plt.ylabel('Number of Deaths') \n",
    "# Save the plot to a file\n",
    "plt.savefig('output_allyear/top_3_diseases_deaths_2013.png')  # You can change the file name and format as needed\n",
    "\n",
    "# Display the plot (optional)\n",
    "plt.show()"
   ]
  },
  {
   "cell_type": "code",
   "execution_count": null,
   "id": "ccc5fcff-c015-4b75-a61b-6307c59f1907",
   "metadata": {},
   "outputs": [],
   "source": [
    "#PLOT\n",
    "heart_2012_df.groupby('month_year')[\"Death in United States 2012\"].count()\n",
    "#lung_2012_df.groupby('month_year')[\"Death in United States 2012\"].count().plot()\n",
    "#diabetes_2012_df.groupby('month_year')[\"Death in United States 2012\"].count()"
   ]
  },
  {
   "cell_type": "code",
   "execution_count": null,
   "id": "1135f403-974a-459d-8460-dd9c717f04bb",
   "metadata": {},
   "outputs": [],
   "source": []
  }
 ],
 "metadata": {
  "kernelspec": {
   "display_name": "Python 3 (ipykernel)",
   "language": "python",
   "name": "python3"
  },
  "language_info": {
   "codemirror_mode": {
    "name": "ipython",
    "version": 3
   },
   "file_extension": ".py",
   "mimetype": "text/x-python",
   "name": "python",
   "nbconvert_exporter": "python",
   "pygments_lexer": "ipython3",
   "version": "3.10.14"
  }
 },
 "nbformat": 4,
 "nbformat_minor": 5
}
