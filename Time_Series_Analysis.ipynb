{
 "cells": [
  {
   "cell_type": "code",
   "execution_count": 1,
   "id": "3d074eb4-c2fe-45cc-9aeb-9f96d3e87c5c",
   "metadata": {},
   "outputs": [],
   "source": [
    "%matplotlib widget"
   ]
  },
  {
   "cell_type": "code",
   "execution_count": 2,
   "id": "d8a5e6fb-494d-4db2-b150-9278e570da53",
   "metadata": {},
   "outputs": [],
   "source": [
    "# Import Numpy for calculations and matplotlib for charting\n",
    "import numpy as np\n",
    "import matplotlib.pyplot as plt\n",
    "import pandas as pd\n",
    "from pathlib import Path\n",
    "import os"
   ]
  },
  {
   "cell_type": "code",
   "execution_count": 3,
   "id": "f74abbe9-a188-479e-802f-1492a4ed2e9b",
   "metadata": {},
   "outputs": [],
   "source": [
    "#Construct file paths for csv files\n",
    "#2005 - 2015\n",
    "file_path_2005 = Path(\"cleaned_data_csv_files/clean_output_2005_DD_df.csv\")\n",
    "file_path_2006 = Path(\"cleaned_data_csv_files/clean_output_2006_DD_df.csv\")\n",
    "file_path_2007 = Path(\"cleaned_data_csv_files/clean_output_2007_DD_df.csv\")\n",
    "file_path_2008 = Path(\"cleaned_data_csv_files/clean_output_2008_DD_df.csv\")\n",
    "file_path_2009 = Path(\"cleaned_data_csv_files/clean_output_2009_DD_df.csv\")\n",
    "file_path_2010 = Path(\"cleaned_data_csv_files/clean_output_2010_DD_df.csv\")\n",
    "file_path_2011 = Path(\"cleaned_data_csv_files/clean_output_2011_DD_df.csv\")\n",
    "file_path_2012 = Path(\"cleaned_data_csv_files/clean_output_2012_DD_df.csv\")\n",
    "file_path_2013 = Path(\"cleaned_data_csv_files/clean_output_2013_DD_df.csv\")\n",
    "file_path_2014 = Path(\"cleaned_data_csv_files/clean_output_2014_DD_df.csv\")\n",
    "file_path_2015 = Path(\"cleaned_data_csv_files/clean_output_2015_DD_df.csv\")"
   ]
  },
  {
   "cell_type": "code",
   "execution_count": 4,
   "id": "5bf9db98-f6f8-4ad6-9d43-f58c94f94ceb",
   "metadata": {},
   "outputs": [],
   "source": [
    "# Load the clean 2005 data CSV file into a Pandas DataFrame\n",
    "clean_2005_DD_df = pd.read_csv(\"cleaned_data_csv_files/clean_output_2005_DD_df.csv\", low_memory=False)\n",
    "\n",
    "# Load the clean csv data for the rest of the years into a Pandas DataFrame\n",
    "clean_2006_DD_df = pd.read_csv(\"cleaned_data_csv_files/clean_output_2006_DD_df.csv\", low_memory=False)\n",
    "clean_2007_DD_df = pd.read_csv(\"cleaned_data_csv_files/clean_output_2007_DD_df.csv\", low_memory=False)\n",
    "clean_2008_DD_df = pd.read_csv(\"cleaned_data_csv_files/clean_output_2008_DD_df.csv\", low_memory=False)\n",
    "clean_2009_DD_df = pd.read_csv(\"cleaned_data_csv_files/clean_output_2009_DD_df.csv\", low_memory=False)\n",
    "clean_2010_DD_df = pd.read_csv(\"cleaned_data_csv_files/clean_output_2010_DD_df.csv\", low_memory=False)\n",
    "clean_2011_DD_df = pd.read_csv(\"cleaned_data_csv_files/clean_output_2011_DD_df.csv\", low_memory=False)\n",
    "clean_2012_DD_df = pd.read_csv(\"cleaned_data_csv_files/clean_output_2012_DD_df.csv\", low_memory=False)\n",
    "clean_2013_DD_df = pd.read_csv(\"cleaned_data_csv_files/clean_output_2013_DD_df.csv\", low_memory=False)\n",
    "clean_2014_DD_df = pd.read_csv(\"cleaned_data_csv_files/clean_output_2014_DD_df.csv\", low_memory=False)\n",
    "clean_2015_DD_df = pd.read_csv(\"cleaned_data_csv_files/clean_output_2015_DD_df.csv\", low_memory=False)"
   ]
  },
  {
   "cell_type": "code",
   "execution_count": 5,
   "id": "bc65ba8c-6f0a-49c6-8b9e-a78affc44c2c",
   "metadata": {},
   "outputs": [],
   "source": [
    "clean_2006_DD_df['month_of_death_num'] = pd.to_datetime(clean_2006_DD_df['month_of_death_text'], format='%B').dt.month\n",
    "clean_2006_DD_df['year_of_death'] = 2006\n",
    "clean_2006_DD_df[\"month_year\"] = f\"{clean_2006_DD_df['year_of_death']}-{clean_2006_DD_df['month_of_death_num']}-01\"\n",
    "clean_2006_DD_df['month_year'] = pd.to_datetime(clean_2006_DD_df['year_of_death'].astype(str) + '-' + clean_2006_DD_df['month_of_death_num'].astype(str),\n",
    "                                                format='%Y-%m')"
   ]
  },
  {
   "cell_type": "code",
   "execution_count": 6,
   "id": "7fe52a04-a203-4419-9b1a-3aef21588045",
   "metadata": {},
   "outputs": [],
   "source": [
    "clean_2007_DD_df['month_of_death_num'] = pd.to_datetime(clean_2007_DD_df['month_of_death_text'], format='%B').dt.month\n",
    "clean_2007_DD_df['year_of_death'] = 2007\n",
    "clean_2007_DD_df[\"month_year\"] = f\"{clean_2007_DD_df['year_of_death']}-{clean_2007_DD_df['month_of_death_num']}-01\"\n",
    "clean_2007_DD_df['month_year'] = pd.to_datetime(clean_2007_DD_df['year_of_death'].astype(str) + '-' + clean_2007_DD_df['month_of_death_num'].astype(str),\n",
    "                                                format='%Y-%m')"
   ]
  },
  {
   "cell_type": "code",
   "execution_count": 7,
   "id": "4e3e7991-8ceb-470e-b285-1c12de97e50f",
   "metadata": {},
   "outputs": [],
   "source": [
    "clean_2008_DD_df['month_of_death_num'] = pd.to_datetime(clean_2008_DD_df['month_of_death_text'], format='%B').dt.month\n",
    "clean_2008_DD_df['year_of_death'] = 2008\n",
    "clean_2008_DD_df[\"month_year\"] = f\"{clean_2008_DD_df['year_of_death']}-{clean_2008_DD_df['month_of_death_num']}-01\"\n",
    "clean_2008_DD_df['month_year'] = pd.to_datetime(clean_2008_DD_df['year_of_death'].astype(str) + '-' + clean_2008_DD_df['month_of_death_num'].astype(str),\n",
    "                                                format='%Y-%m')"
   ]
  },
  {
   "cell_type": "code",
   "execution_count": 8,
   "id": "992c5dd9-e47a-478f-9ea0-c2cbd0a40771",
   "metadata": {},
   "outputs": [],
   "source": [
    "clean_2009_DD_df['month_of_death_num'] = pd.to_datetime(clean_2009_DD_df['month_of_death_text'], format='%B').dt.month\n",
    "clean_2009_DD_df['year_of_death'] = 2009\n",
    "clean_2009_DD_df[\"month_year\"] = f\"{clean_2009_DD_df['year_of_death']}-{clean_2009_DD_df['month_of_death_num']}-01\"\n",
    "clean_2009_DD_df['month_year'] = pd.to_datetime(clean_2009_DD_df['year_of_death'].astype(str) + '-' + clean_2009_DD_df['month_of_death_num'].astype(str),\n",
    "                                                format='%Y-%m')"
   ]
  },
  {
   "cell_type": "code",
   "execution_count": 9,
   "id": "239d89b6-d3bb-4a6d-8a9e-cccfd804b093",
   "metadata": {},
   "outputs": [],
   "source": [
    "clean_2010_DD_df['month_of_death_num'] = pd.to_datetime(clean_2010_DD_df['month_of_death_text'], format='%B').dt.month\n",
    "clean_2010_DD_df['year_of_death'] = 2010\n",
    "clean_2010_DD_df[\"month_year\"] = f\"{clean_2010_DD_df['year_of_death']}-{clean_2010_DD_df['month_of_death_num']}-01\"\n",
    "clean_2010_DD_df['month_year'] = pd.to_datetime(clean_2010_DD_df['year_of_death'].astype(str) + '-' + clean_2010_DD_df['month_of_death_num'].astype(str),\n",
    "                                                format='%Y-%m')"
   ]
  },
  {
   "cell_type": "code",
   "execution_count": 10,
   "id": "062134ad-0c3c-4324-afca-e45828834198",
   "metadata": {},
   "outputs": [],
   "source": [
    "clean_2011_DD_df['month_of_death_num'] = pd.to_datetime(clean_2011_DD_df['month_of_death_text'], format='%B').dt.month\n",
    "clean_2011_DD_df['year_of_death'] = 2011\n",
    "clean_2011_DD_df[\"month_year\"] = f\"{clean_2011_DD_df['year_of_death']}-{clean_2011_DD_df['month_of_death_num']}-01\"\n",
    "clean_2011_DD_df['month_year'] = pd.to_datetime(clean_2011_DD_df['year_of_death'].astype(str) + '-' + clean_2011_DD_df['month_of_death_num'].astype(str),\n",
    "                                                format='%Y-%m')"
   ]
  },
  {
   "cell_type": "code",
   "execution_count": 11,
   "id": "bd3bfb71-670b-4d4f-83a8-55c7fa4385fe",
   "metadata": {},
   "outputs": [],
   "source": [
    "clean_2012_DD_df['month_of_death_num'] = pd.to_datetime(clean_2012_DD_df['month_of_death_text'], format='%B').dt.month\n",
    "clean_2012_DD_df['year_of_death'] = 2012\n",
    "clean_2012_DD_df[\"month_year\"] = f\"{clean_2012_DD_df['year_of_death']}-{clean_2012_DD_df['month_of_death_num']}-01\"\n",
    "clean_2012_DD_df['month_year'] = pd.to_datetime(clean_2012_DD_df['year_of_death'].astype(str) + '-' + clean_2012_DD_df['month_of_death_num'].astype(str),\n",
    "                                                format='%Y-%m')"
   ]
  },
  {
   "cell_type": "code",
   "execution_count": 12,
   "id": "0a5b1bfd-7f53-4ab4-877e-7684584a3bbf",
   "metadata": {},
   "outputs": [],
   "source": [
    "clean_2013_DD_df['month_of_death_num'] = pd.to_datetime(clean_2013_DD_df['month_of_death_text'], format='%B').dt.month\n",
    "clean_2013_DD_df['year_of_death'] = 2011\n",
    "clean_2013_DD_df[\"month_year\"] = f\"{clean_2013_DD_df['year_of_death']}-{clean_2013_DD_df['month_of_death_num']}-01\"\n",
    "clean_2013_DD_df['month_year'] = pd.to_datetime(clean_2013_DD_df['year_of_death'].astype(str) + '-' + clean_2013_DD_df['month_of_death_num'].astype(str),\n",
    "                                                format='%Y-%m')"
   ]
  },
  {
   "cell_type": "code",
   "execution_count": 13,
   "id": "83b82a92-4063-4771-bf95-91d6f63fc262",
   "metadata": {},
   "outputs": [],
   "source": [
    "clean_2014_DD_df['month_of_death_num'] = pd.to_datetime(clean_2014_DD_df['month_of_death_text'], format='%B').dt.month\n",
    "clean_2014_DD_df['year_of_death'] = 2014\n",
    "clean_2014_DD_df[\"month_year\"] = f\"{clean_2014_DD_df['year_of_death']}-{clean_2014_DD_df['month_of_death_num']}-01\"\n",
    "clean_2014_DD_df['month_year'] = pd.to_datetime(clean_2014_DD_df['year_of_death'].astype(str) + '-' + clean_2014_DD_df['month_of_death_num'].astype(str),\n",
    "                                                format='%Y-%m')"
   ]
  },
  {
   "cell_type": "code",
   "execution_count": 14,
   "id": "de536c34-4f7f-4318-9f17-04e5e211549f",
   "metadata": {},
   "outputs": [],
   "source": [
    "clean_2015_DD_df['month_of_death_num'] = pd.to_datetime(clean_2015_DD_df['month_of_death_text'], format='%B').dt.month\n",
    "clean_2015_DD_df['year_of_death'] = 2015\n",
    "clean_2015_DD_df[\"month_year\"] = f\"{clean_2015_DD_df['year_of_death']}-{clean_2015_DD_df['month_of_death_num']}-01\"\n",
    "clean_2015_DD_df['month_year'] = pd.to_datetime(clean_2015_DD_df['year_of_death'].astype(str) + '-' + clean_2015_DD_df['month_of_death_num'].astype(str),\n",
    "                                                format='%Y-%m')"
   ]
  },
  {
   "cell_type": "code",
   "execution_count": 15,
   "id": "b750a05e-2666-47e0-b3d1-0ac66feee034",
   "metadata": {},
   "outputs": [
    {
     "data": {
      "text/plain": [
       "Index(['Death in United States 2006', 'detail_age', 'detail_age_type_text',\n",
       "       'sex_text', 'race_text', 'marital_status_text',\n",
       "       'day_of_week_of_death_text', 'month_of_death_text',\n",
       "       'place_of_death_and_decedents_status_text', 'manner_of_death_text',\n",
       "       '358_cause_recode_text', '130_infant_cause_recode_text',\n",
       "       'month_of_death_num', 'year_of_death', 'month_year',\n",
       "       'Death in United States 2007', 'Death in United States 2008',\n",
       "       'Death in United States 2009', 'Death in United States 2010',\n",
       "       'Death in United States 2012', 'Death in United States 2013',\n",
       "       'Death in United States 2014', 'Death in United States 2015'],\n",
       "      dtype='object')"
      ]
     },
     "execution_count": 15,
     "metadata": {},
     "output_type": "execute_result"
    }
   ],
   "source": [
    "all_years = pd.concat([clean_2006_DD_df, clean_2007_DD_df, clean_2008_DD_df, clean_2009_DD_df, clean_2010_DD_df, clean_2011_DD_df,\n",
    "                      clean_2012_DD_df, clean_2013_DD_df, clean_2014_DD_df, clean_2015_DD_df])\n",
    "all_years.columns"
   ]
  },
  {
   "cell_type": "code",
   "execution_count": 16,
   "id": "beb80a91-7b70-4095-8a2d-427afc64e55a",
   "metadata": {},
   "outputs": [
    {
     "data": {
      "text/html": [
       "<div>\n",
       "<style scoped>\n",
       "    .dataframe tbody tr th:only-of-type {\n",
       "        vertical-align: middle;\n",
       "    }\n",
       "\n",
       "    .dataframe tbody tr th {\n",
       "        vertical-align: top;\n",
       "    }\n",
       "\n",
       "    .dataframe thead th {\n",
       "        text-align: right;\n",
       "    }\n",
       "</style>\n",
       "<table border=\"1\" class=\"dataframe\">\n",
       "  <thead>\n",
       "    <tr style=\"text-align: right;\">\n",
       "      <th></th>\n",
       "      <th>day_of_week_of_death_text</th>\n",
       "      <th>month_of_death_text</th>\n",
       "    </tr>\n",
       "  </thead>\n",
       "  <tbody>\n",
       "    <tr>\n",
       "      <th>0</th>\n",
       "      <td>Sunday</td>\n",
       "      <td>January</td>\n",
       "    </tr>\n",
       "    <tr>\n",
       "      <th>1</th>\n",
       "      <td>Monday</td>\n",
       "      <td>January</td>\n",
       "    </tr>\n",
       "    <tr>\n",
       "      <th>2</th>\n",
       "      <td>Sunday</td>\n",
       "      <td>January</td>\n",
       "    </tr>\n",
       "    <tr>\n",
       "      <th>3</th>\n",
       "      <td>Tuesday</td>\n",
       "      <td>January</td>\n",
       "    </tr>\n",
       "    <tr>\n",
       "      <th>4</th>\n",
       "      <td>Monday</td>\n",
       "      <td>January</td>\n",
       "    </tr>\n",
       "  </tbody>\n",
       "</table>\n",
       "</div>"
      ],
      "text/plain": [
       "  day_of_week_of_death_text month_of_death_text\n",
       "0                    Sunday             January\n",
       "1                    Monday             January\n",
       "2                    Sunday             January\n",
       "3                   Tuesday             January\n",
       "4                    Monday             January"
      ]
     },
     "execution_count": 16,
     "metadata": {},
     "output_type": "execute_result"
    }
   ],
   "source": [
    "all_years[['day_of_week_of_death_text', 'month_of_death_text']].head()"
   ]
  },
  {
   "cell_type": "code",
   "execution_count": null,
   "id": "1d936fa0-99af-4533-9057-0cab1d225be4",
   "metadata": {},
   "outputs": [],
   "source": []
  },
  {
   "cell_type": "code",
   "execution_count": 17,
   "id": "c98dd420-71eb-4a38-a9a3-3a57c8663ede",
   "metadata": {},
   "outputs": [],
   "source": [
    "#Create a new dataframe only for individuals with a cause of death involving the top three causes of death\n",
    "#2005\n",
    "#Heart Disease\n",
    "selected_2005_heart = [\"All other forms of chronic ischemic heart disease (I20,I25.1-I25.9)\",\n",
    "                    \"Acute myocardial infarction (I21-I22)\",\n",
    "                    \"Atherosclerotic cardiovascular disease, so described (I25.0)\",\n",
    "                    \"Congestive heart failure (I50.0)\"]\n",
    "heart_2005_df = clean_2005_DD_df[clean_2005_DD_df[\"Cause of Death (358)\"].isin(selected_2005_heart)]\n",
    "heart_2005_df\n",
    "\n",
    "#Lung\n",
    "#selected_2005_lung = \n",
    "#lung_2005_df = clean_2005_DD_df[clean_2005_DD_df[\"Cause of Death (358)\"].isin(selected_2005_lung)]\n",
    "\n",
    "#Diabetes\n",
    "selected_2005_diabetes = [\"Diabetes mellitus (E10-E14)\"]\n",
    "diabetes_2005_df = clean_2005_DD_df[clean_2005_DD_df[\"Cause of Death (358)\"].isin(selected_2005_diabetes)]"
   ]
  },
  {
   "cell_type": "code",
   "execution_count": 18,
   "id": "e9229074-b733-4c71-8de3-86c6914537f0",
   "metadata": {},
   "outputs": [
    {
     "name": "stdout",
     "output_type": "stream",
     "text": [
      "Number of male deaths caused by heart disease: 180351\n",
      "Number of female deaths caused by heart disease: 165808\n",
      "Number of male deaths caused by diabetes in 2005: 25244\n",
      "Number of female deaths caused by diabetes in 2005: 26349\n"
     ]
    }
   ],
   "source": [
    "# Determine the number of heart disease deaths by sex\n",
    "#2005 Heart\n",
    "gender_count = heart_2005_df['sex']\n",
    "male_count = len(heart_2005_df[heart_2005_df['sex'] == 'M'])\n",
    "female_count = len(heart_2005_df[heart_2005_df['sex'] == 'F'])\n",
    "\n",
    "print(f\"Number of male deaths caused by heart disease: {male_count}\")\n",
    "print(f\"Number of female deaths caused by heart disease: {female_count}\")\n",
    "\n",
    "# Determine the number of lung disease deaths by sex \n",
    "#2005 Lung\n",
    "#gender_count = lung_2005_df['sex']\n",
    "#male_count = len(lung_2005_df[lung_2005_df['sex'] == 'M'])\n",
    "#female_count = len(lung_2005_df[lung_2005_df['sex'] == 'F'])\n",
    "\n",
    "# Determine the number of diabetes deaths by sex\n",
    "#2005 Diabetes\n",
    "gender_count = diabetes_2005_df['sex']\n",
    "male_count = len(diabetes_2005_df[diabetes_2005_df['sex'] == 'M'])\n",
    "female_count = len(diabetes_2005_df[diabetes_2005_df['sex'] == 'F'])\n",
    "\n",
    "print(f\"Number of male deaths caused by diabetes in 2005: {male_count}\")\n",
    "print(f\"Number of female deaths caused by diabetes in 2005: {female_count}\")\n"
   ]
  },
  {
   "cell_type": "code",
   "execution_count": 19,
   "id": "eb94acf7-8fbd-4e85-bc11-205005414f0a",
   "metadata": {},
   "outputs": [
    {
     "data": {
      "text/plain": [
       "Index(['Death in United States 2005', 'Age', 'Age Units', 'sex', 'Race',\n",
       "       'Marital Status', 'Day of Death', 'Month of Death', 'Place of Death',\n",
       "       'Manner of Death', 'Cause of Death (358)', 'Infant Record'],\n",
       "      dtype='object')"
      ]
     },
     "execution_count": 19,
     "metadata": {},
     "output_type": "execute_result"
    }
   ],
   "source": [
    "male_df = diabetes_2005_df[diabetes_2005_df['sex'] == 'M'].copy()\n",
    "female_df = diabetes_2005_df[diabetes_2005_df['sex'] == 'F'].copy()\n",
    "male_df.columns"
   ]
  },
  {
   "cell_type": "code",
   "execution_count": 20,
   "id": "a56173c0-e1d9-4bec-983c-c7f3310b44e1",
   "metadata": {},
   "outputs": [],
   "source": [
    "#Create a new dataframe only for individuals with a cause of death involving the top three causes of death\n",
    "#2006\n",
    "#Heart Disease\n",
    "selected_2006_heart = [\"All other forms of chronic ischemic heart disease (I20,I25.1-I25.9)\",\n",
    "                    \"Acute myocardial infarction (I21-I22)\",\n",
    "                    \"Atherosclerotic cardiovascular disease, so described (I25.0)\",\n",
    "                    \"Congestive heart failure (I50.0)\"]\n",
    "heart_2006_df = clean_2006_DD_df[clean_2006_DD_df[\"358_cause_recode_text\"].isin(selected_2006_heart)]\n",
    "heart_2006_df\n",
    "\n",
    "#Lung\n",
    "#selected_2006_lung = \n",
    "#lung_2006_df = clean_2005_DD_df[clean_2006_DD_df[\"Cause of Death (358)\"].isin(selected_2006_lung)]\n",
    "\n",
    "#Diabetes\n",
    "selected_2006_diabetes = [\"Diabetes mellitus (E10-E14)\"]\n",
    "diabetes_2006_df = clean_2006_DD_df[clean_2006_DD_df[\"358_cause_recode_text\"].isin(selected_2006_diabetes)]"
   ]
  },
  {
   "cell_type": "code",
   "execution_count": 21,
   "id": "dc976535-28b3-4159-a737-cf37c444dd9a",
   "metadata": {},
   "outputs": [
    {
     "data": {
      "text/plain": [
       "Index(['Death in United States 2006', 'detail_age', 'detail_age_type_text',\n",
       "       'sex_text', 'race_text', 'marital_status_text',\n",
       "       'day_of_week_of_death_text', 'month_of_death_text',\n",
       "       'place_of_death_and_decedents_status_text', 'manner_of_death_text',\n",
       "       '358_cause_recode_text', '130_infant_cause_recode_text',\n",
       "       'month_of_death_num', 'year_of_death', 'month_year'],\n",
       "      dtype='object')"
      ]
     },
     "execution_count": 21,
     "metadata": {},
     "output_type": "execute_result"
    }
   ],
   "source": [
    "diabetes_2006_df.columns"
   ]
  },
  {
   "cell_type": "code",
   "execution_count": 22,
   "id": "0c1e041f-dedf-41e4-bb68-a2a747bd44bb",
   "metadata": {},
   "outputs": [
    {
     "data": {
      "text/plain": [
       "<Axes: xlabel='month_year'>"
      ]
     },
     "execution_count": 22,
     "metadata": {},
     "output_type": "execute_result"
    },
    {
     "data": {
      "application/vnd.jupyter.widget-view+json": {
       "model_id": "f0131e46e795495c977c5eb2ba5459a1",
       "version_major": 2,
       "version_minor": 0
      },
      "image/png": "[encoded data removed]",
      "text/html": [
       "\n",
       "            <div style=\"display: inline-block;\">\n",
       "                <div class=\"jupyter-widgets widget-label\" style=\"text-align: center;\">\n",
       "                    Figure\n",
       "                </div>\n",
       "                <img src='data:image/png;base64,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' width=640.0/>\n",
       "            </div>\n",
       "        "
      ],
      "text/plain": [
       "Canvas(toolbar=Toolbar(toolitems=[('Home', 'Reset original view', 'home', 'home'), ('Back', 'Back to previous …"
      ]
     },
     "metadata": {},
     "output_type": "display_data"
    }
   ],
   "source": [
    "heart_2006_df.groupby('month_year')[\"Death in United States 2006\"].count().plot()\n",
    "#lung_2006_df.groupby('month_year')[\"Death in United States 2006\"].count().plot()\n",
    "#diabetes_2006_df.groupby('month_year')[\"Death in United States 2006\"].count().plot()"
   ]
  },
  {
   "cell_type": "code",
   "execution_count": 23,
   "id": "2514a444-be99-4d37-b916-2572a8d1fb17",
   "metadata": {},
   "outputs": [
    {
     "name": "stdout",
     "output_type": "stream",
     "text": [
      "Number of male deaths caused by heart disease: 177794\n",
      "Number of female deaths caused by heart disease: 159807\n",
      "Number of male deaths caused by diabetes: 25429\n",
      "Number of female deaths caused by diabetes: 25315\n"
     ]
    }
   ],
   "source": [
    "# Determine the number of top three deaths by sex\n",
    "#2006 Heart\n",
    "gender_count = heart_2006_df['sex_text']\n",
    "male_count = len(heart_2006_df[heart_2006_df['sex_text'] == 'Male'])\n",
    "female_count = len(heart_2006_df[heart_2006_df['sex_text'] == 'Female'])\n",
    "\n",
    "print(f\"Number of male deaths caused by heart disease: {male_count}\")\n",
    "print(f\"Number of female deaths caused by heart disease: {female_count}\")\n",
    "\n",
    "#2006 Lung\n",
    "#gender_count = lung_2006_df['sex_text']\n",
    "#male_count = len(lung_2006_df[lung_2006_df['sex_text'] == 'Male'])\n",
    "#female_count = len(lung_2006_df[lung_2006_df['sex_text'] == 'Female'])\n",
    "\n",
    "#2006 Diabetes\n",
    "gender_count = diabetes_2006_df['sex_text']\n",
    "male_count = len(diabetes_2006_df[diabetes_2006_df['sex_text'] == 'Male'])\n",
    "female_count = len(diabetes_2006_df[diabetes_2006_df['sex_text'] == 'Female'])\n",
    "\n",
    "print(f\"Number of male deaths caused by diabetes: {male_count}\")\n",
    "print(f\"Number of female deaths caused by diabetes: {female_count}\")\n"
   ]
  },
  {
   "cell_type": "code",
   "execution_count": 24,
   "id": "089336b4-953d-4114-9eb0-1146bef3d99e",
   "metadata": {},
   "outputs": [],
   "source": [
    "#Create a new dataframe only for individuals with a cause of death involving the top three causes of death\n",
    "#2007\n",
    "#Heart Disease\n",
    "selected_2007_heart = [\"All other forms of chronic ischemic heart disease (I20,I25.1-I25.9)\",\n",
    "                    \"Acute myocardial infarction (I21-I22)\",\n",
    "                    \"Atherosclerotic cardiovascular disease, so described (I25.0)\",\n",
    "                    \"Congestive heart failure (I50.0)\"]\n",
    "heart_2007_df = clean_2007_DD_df[clean_2007_DD_df[\"358_cause_recode_text\"].isin(selected_2007_heart)]\n",
    "heart_2007_df\n",
    "\n",
    "#Lung\n",
    "#selected_2007_lung = \n",
    "#lung_2007_df = clean_2007_DD_df[clean_2007_DD_df[\"Cause of Death (358)\"].isin(selected_2007_lung)]\n",
    "\n",
    "#Diabetes\n",
    "selected_2007_diabetes = [\"Diabetes mellitus (E10-E14)\"]\n",
    "diabetes_2007_df = clean_2007_DD_df[clean_2007_DD_df[\"358_cause_recode_text\"].isin(selected_2007_diabetes)]"
   ]
  },
  {
   "cell_type": "code",
   "execution_count": 25,
   "id": "cb66aa86-5f27-4a4b-bdf3-2ce7cb2d2a7a",
   "metadata": {},
   "outputs": [
    {
     "data": {
      "text/plain": [
       "Index(['Death in United States 2007', 'detail_age', 'detail_age_type_text',\n",
       "       'sex_text', 'race_text', 'marital_status_text',\n",
       "       'day_of_week_of_death_text', 'month_of_death_text',\n",
       "       'place_of_death_and_decedents_status_text', 'manner_of_death_text',\n",
       "       '358_cause_recode_text', '130_infant_cause_recode_text',\n",
       "       'month_of_death_num', 'year_of_death', 'month_year'],\n",
       "      dtype='object')"
      ]
     },
     "execution_count": 25,
     "metadata": {},
     "output_type": "execute_result"
    }
   ],
   "source": [
    "diabetes_2007_df.columns"
   ]
  },
  {
   "cell_type": "code",
   "execution_count": 26,
   "id": "e8ed05c9-1c75-48ab-90c7-5a5a6a43656a",
   "metadata": {},
   "outputs": [
    {
     "data": {
      "text/plain": [
       "<Axes: xlabel='month_year'>"
      ]
     },
     "execution_count": 26,
     "metadata": {},
     "output_type": "execute_result"
    }
   ],
   "source": [
    "heart_2007_df.groupby('month_year')[\"Death in United States 2007\"].count().plot()\n",
    "#lung_2007_df.groupby('month_year')[\"Death in United States 2007\"].count().plot()\n",
    "#diabetes_2007_df.groupby('month_year')[\"Death in United States 2007\"].count().plot()"
   ]
  },
  {
   "cell_type": "code",
   "execution_count": 27,
   "id": "bbb504f2-bf3c-4b30-959f-72d082f3364e",
   "metadata": {},
   "outputs": [],
   "source": [
    "# Determine the number of top three deaths by sex\n",
    "#2007 Heart\n",
    "gender_count = heart_2007_df['sex_text']\n",
    "male_count = len(heart_2007_df[heart_2007_df['sex_text'] == 'Male'])\n",
    "female_count = len(heart_2007_df[heart_2007_df['sex_text'] == 'Female'])\n",
    "\n",
    "\n",
    "#2007 Lung\n",
    "#gender_count = lung_2007_df['sex_text']\n",
    "#male_count = len(lung_2007_df[lung_2007_df['sex_text'] == 'Male'])\n",
    "#female_count = len(lung_2007_df[lung_2007_df['sex_text'] == 'Female'])\n",
    "\n",
    "#2007 Diabetes\n",
    "gender_count = diabetes_2007_df['sex_text']\n",
    "male_count = len(diabetes_2007_df[diabetes_2007_df['sex_text'] == 'Male'])\n",
    "female_count = len(diabetes_2007_df[diabetes_2007_df['sex_text'] == 'Female'])"
   ]
  },
  {
   "cell_type": "code",
   "execution_count": 28,
   "id": "88da7694-9857-4a7f-9566-7d16303d1834",
   "metadata": {},
   "outputs": [],
   "source": [
    "#Create a new dataframe only for individuals with a cause of death involving the top three causes of death\n",
    "#2008\n",
    "#Heart Disease\n",
    "selected_2008_heart = [\"All other forms of chronic ischemic heart disease (I20,I25.1-I25.9)\",\n",
    "                    \"Acute myocardial infarction (I21-I22)\",\n",
    "                    \"Atherosclerotic cardiovascular disease, so described (I25.0)\",\n",
    "                    \"Congestive heart failure (I50.0)\"]\n",
    "heart_2008_df = clean_2008_DD_df[clean_2008_DD_df[\"358_cause_recode_text\"].isin(selected_2008_heart)]\n",
    "heart_2008_df\n",
    "\n",
    "#Lung\n",
    "#selected_2008_lung = \n",
    "#lung_2008_df = clean_2008_DD_df[clean_2008_DD_df[\"Cause of Death (358)\"].isin(selected_2008_lung)]\n",
    "\n",
    "#Diabetes\n",
    "selected_2008_diabetes = [\"Diabetes mellitus (E10-E14)\"]\n",
    "diabetes_2008_df = clean_2008_DD_df[clean_2008_DD_df[\"358_cause_recode_text\"].isin(selected_2008_diabetes)]"
   ]
  },
  {
   "cell_type": "code",
   "execution_count": 29,
   "id": "91e4f363-1787-4f8c-81f4-11858f0b9dcb",
   "metadata": {},
   "outputs": [
    {
     "data": {
      "text/plain": [
       "<Axes: xlabel='month_year'>"
      ]
     },
     "execution_count": 29,
     "metadata": {},
     "output_type": "execute_result"
    }
   ],
   "source": [
    "heart_2008_df.groupby('month_year')[\"Death in United States 2008\"].count().plot()\n",
    "#lung_2008_df.groupby('month_year')[\"Death in United States 2008\"].count().plot()\n",
    "diabetes_2008_df.groupby('month_year')[\"Death in United States 2008\"].count().plot()"
   ]
  },
  {
   "cell_type": "code",
   "execution_count": 30,
   "id": "097fc7e9-6a96-4227-8bbe-d8785032f6be",
   "metadata": {},
   "outputs": [],
   "source": [
    "# Determine the number of top three deaths by sex\n",
    "#2008 Heart\n",
    "gender_count = heart_2008_df['sex_text']\n",
    "male_count = len(heart_2008_df[heart_2008_df['sex_text'] == 'Male'])\n",
    "female_count = len(heart_2008_df[heart_2008_df['sex_text'] == 'Female'])\n",
    " \n",
    "#2008 Lung\n",
    "#gender_count = lung_2008_df['sex_text']\n",
    "#male_count = len(lung_2008_df[lung_2008_df['sex_text'] == 'Male'])\n",
    "#female_count = len(lung_2008_df[lung_2008_df['sex_text'] == 'Female'])\n",
    "\n",
    "#2008 Diabetes\n",
    "gender_count = diabetes_2008_df['sex_text']\n",
    "male_count = len(diabetes_2008_df[diabetes_2008_df['sex_text'] == 'Male'])\n",
    "female_count = len(diabetes_2008_df[diabetes_2008_df['sex_text'] == 'Female'])"
   ]
  },
  {
   "cell_type": "code",
   "execution_count": 31,
   "id": "7b7b6461-a5da-4446-bed6-dc32a0b671ef",
   "metadata": {},
   "outputs": [],
   "source": [
    "#Create a new dataframe only for individuals with a cause of death involving the top three causes of death\n",
    "#2009\n",
    "#Heart Disease\n",
    "selected_2009_heart = [\"All other forms of chronic ischemic heart disease (I20,I25.1-I25.9)\",\n",
    "                    \"Acute myocardial infarction (I21-I22)\",\n",
    "                    \"Atherosclerotic cardiovascular disease, so described (I25.0)\",\n",
    "                    \"Congestive heart failure (I50.0)\"]\n",
    "heart_2009_df = clean_2009_DD_df[clean_2009_DD_df[\"358_cause_recode_text\"].isin(selected_2009_heart)]\n",
    "heart_2009_df\n",
    "\n",
    "#Lung\n",
    "#selected_2009_lung = \n",
    "#lung_2007_df = clean_2009_DD_df[clean_2009_DD_df[\"Cause of Death (358)\"].isin(selected_2009_lung)]\n",
    "\n",
    "#Diabetes\n",
    "selected_2009_diabetes = [\"Diabetes mellitus (E10-E14)\"]\n",
    "diabetes_2009_df = clean_2009_DD_df[clean_2009_DD_df[\"358_cause_recode_text\"].isin(selected_2009_diabetes)]"
   ]
  },
  {
   "cell_type": "code",
   "execution_count": 32,
   "id": "0097688e-c071-4903-bda0-d80bfbb7dd37",
   "metadata": {},
   "outputs": [
    {
     "data": {
      "text/plain": [
       "<Axes: xlabel='month_year'>"
      ]
     },
     "execution_count": 32,
     "metadata": {},
     "output_type": "execute_result"
    }
   ],
   "source": [
    "#PLOT\n",
    "heart_2009_df.groupby('month_year')[\"Death in United States 2009\"].count().plot()\n",
    "#lung_2009_df.groupby('month_year')[\"Death in United States 2009\"].count().plot()\n",
    "#diabetes_2009_df.groupby('month_year')[\"Death in United States 2009\"].count().plot()"
   ]
  },
  {
   "cell_type": "code",
   "execution_count": 33,
   "id": "5047bfd9-4081-4d7e-ad09-0c78b389f6dd",
   "metadata": {},
   "outputs": [],
   "source": [
    "# Determine the number of top three deaths by sex\n",
    "#2009 Heart\n",
    "gender_count = heart_2009_df['sex_text']\n",
    "male_count = len(heart_2009_df[heart_2009_df['sex_text'] == 'Male'])\n",
    "female_count = len(heart_2009_df[heart_2009_df['sex_text'] == 'Female'])\n",
    " \n",
    "#2009 Lung\n",
    "#gender_count = lung_2009_df['sex_text']\n",
    "#male_count = len(lung_2009_df[lung_2009_df['sex_text'] == 'Male'])\n",
    "#female_count = len(lung_2009_df[lung_2009_df['sex_text'] == 'Female'])\n",
    "\n",
    "#2009 Diabetes\n",
    "gender_count = diabetes_2009_df['sex_text']\n",
    "male_count = len(diabetes_2009_df[diabetes_2009_df['sex_text'] == 'Male'])\n",
    "female_count = len(diabetes_2009_df[diabetes_2009_df['sex_text'] == 'Female'])"
   ]
  },
  {
   "cell_type": "code",
   "execution_count": 34,
   "id": "16eac50f-21d2-4d44-a127-fade3548793a",
   "metadata": {},
   "outputs": [],
   "source": [
    "#Create a new dataframe only for individuals with a cause of death involving the top three causes of death\n",
    "#2010\n",
    "#Heart Disease\n",
    "selected_2010_heart = [\"All other forms of chronic ischemic heart disease (I20,I25.1-I25.9)\",\n",
    "                    \"Acute myocardial infarction (I21-I22)\",\n",
    "                    \"Atherosclerotic cardiovascular disease, so described (I25.0)\",\n",
    "                    \"Congestive heart failure (I50.0)\"]\n",
    "heart_2010_df = clean_2010_DD_df[clean_2010_DD_df[\"358_cause_recode_text\"].isin(selected_2010_heart)]\n",
    "heart_2010_df\n",
    "\n",
    "#Lung\n",
    "#selected_2010_lung = \n",
    "#lung_2010_df = clean_2010_DD_df[clean_2010_DD_df[\"Cause of Death (358)\"].isin(selected_2010_lung)]\n",
    "\n",
    "#Diabetes\n",
    "selected_2010_diabetes = [\"Diabetes mellitus (E10-E14)\"]\n",
    "diabetes_2010_df = clean_2010_DD_df[clean_2010_DD_df[\"358_cause_recode_text\"].isin(selected_2010_diabetes)]"
   ]
  },
  {
   "cell_type": "code",
   "execution_count": 35,
   "id": "a3809a94-562e-45f6-9d36-7baa246225d3",
   "metadata": {},
   "outputs": [
    {
     "data": {
      "text/plain": [
       "<Axes: xlabel='month_year'>"
      ]
     },
     "execution_count": 35,
     "metadata": {},
     "output_type": "execute_result"
    }
   ],
   "source": [
    "#PLOT\n",
    "heart_2010_df.groupby('month_year')[\"Death in United States 2010\"].count().plot()\n",
    "#lung_2010_df.groupby('month_year')[\"Death in United States 2010\"].count().plot()\n",
    "#diabetes_2010_df.groupby('month_year')[\"Death in United States 2010\"].count().plot()"
   ]
  },
  {
   "cell_type": "code",
   "execution_count": 36,
   "id": "d7912a9c-166b-4fb0-9aa1-81e6adc5dbc5",
   "metadata": {},
   "outputs": [],
   "source": [
    "# Determine the number of top three deaths by sex\n",
    "#2010 Heart\n",
    "gender_count = heart_2010_df['sex_text']\n",
    "male_count = len(heart_2010_df[heart_2010_df['sex_text'] == 'Male'])\n",
    "female_count = len(heart_2010_df[heart_2010_df['sex_text'] == 'Female'])\n",
    " \n",
    "#2010 Lung\n",
    "#gender_count = lung_2010_df['sex_text']\n",
    "#male_count = len(lung_2010_df[lung_2010_df['sex_text'] == 'Male'])\n",
    "#female_count = len(lung_2010_df[lung_2010_df['sex_text'] == 'Female'])\n",
    "\n",
    "#2010 Diabetes\n",
    "gender_count = diabetes_2010_df['sex_text']\n",
    "male_count = len(diabetes_2010_df[diabetes_2010_df['sex_text'] == 'Male'])\n",
    "female_count = len(diabetes_2010_df[diabetes_2010_df['sex_text'] == 'Female'])"
   ]
  },
  {
   "cell_type": "code",
   "execution_count": 37,
   "id": "de2928e6-7f28-4183-8edf-82ea7bc52bb1",
   "metadata": {},
   "outputs": [],
   "source": [
    "#Create a new dataframe only for individuals with a cause of death involving the top three causes of death\n",
    "#2011\n",
    "#Heart Disease\n",
    "selected_2011_heart = [\"All other forms of chronic ischemic heart disease (I20,I25.1-I25.9)\",\n",
    "                    \"Acute myocardial infarction (I21-I22)\",\n",
    "                    \"Atherosclerotic cardiovascular disease, so described (I25.0)\",\n",
    "                    \"Congestive heart failure (I50.0)\"]\n",
    "heart_2011_df = clean_2011_DD_df[clean_2011_DD_df[\"358_cause_recode_text\"].isin(selected_2011_heart)]\n",
    "heart_2011_df\n",
    "\n",
    "#Lung\n",
    "#selected_2011_lung = \n",
    "#lung_2011_df = clean_2011_DD_df[clean_2011_DD_df[\"Cause of Death (358)\"].isin(selected_2011_lung)]\n",
    "\n",
    "#Diabetes\n",
    "selected_2011_diabetes = [\"Diabetes mellitus (E10-E14)\"]\n",
    "diabetes_2011_df = clean_2011_DD_df[clean_2011_DD_df[\"358_cause_recode_text\"].isin(selected_2011_diabetes)]"
   ]
  },
  {
   "cell_type": "code",
   "execution_count": 60,
   "id": "9874cd30-d328-46ec-aec7-422b37e2c8e7",
   "metadata": {},
   "outputs": [
    {
     "data": {
      "text/plain": [
       "Index(['Death in United States 2010', 'detail_age', 'detail_age_type_text',\n",
       "       'sex_text', 'race_text', 'marital_status_text',\n",
       "       'day_of_week_of_death_text', 'month_of_death_text',\n",
       "       'place_of_death_and_decedents_status_text', 'manner_of_death_text',\n",
       "       '358_cause_recode_text', '130_infant_cause_recode_text',\n",
       "       'month_of_death_num', 'year_of_death', 'month_year'],\n",
       "      dtype='object')"
      ]
     },
     "execution_count": 60,
     "metadata": {},
     "output_type": "execute_result"
    }
   ],
   "source": [
    "diabetes_2011_df.columns"
   ]
  },
  {
   "cell_type": "code",
   "execution_count": 61,
   "id": "d36c8388-1361-4891-a38e-254373da2255",
   "metadata": {},
   "outputs": [
    {
     "data": {
      "text/plain": [
       "<Axes: xlabel='month_year'>"
      ]
     },
     "execution_count": 61,
     "metadata": {},
     "output_type": "execute_result"
    }
   ],
   "source": [
    "#PLOT\n",
    "heart_2011_df.groupby('month_year')[\"detail_age\"].count().plot()\n",
    "#lung_2011_df.groupby('month_year')[\"Death in United States 2011\"].count().plot()\n",
    "#diabetes_2011_df.groupby('month_year')[\"Death in United States 2011\"].count().plot()"
   ]
  },
  {
   "cell_type": "code",
   "execution_count": 39,
   "id": "a7ba13c4-7ecc-4155-a5b2-07dbbb3ef307",
   "metadata": {},
   "outputs": [],
   "source": [
    "# Determine the number of top three deaths by sex\n",
    "#2011 Heart\n",
    "gender_count = heart_2011_df['sex_text']\n",
    "male_count = len(heart_2011_df[heart_2011_df['sex_text'] == 'Male'])\n",
    "female_count = len(heart_2011_df[heart_2011_df['sex_text'] == 'Female'])\n",
    " \n",
    "#2011 Lung\n",
    "#gender_count = lung_2011_df['sex_text']\n",
    "#male_count = len(lung_2011_df[lung_2011_df['sex_text'] == 'Male'])\n",
    "#female_count = len(lung_2011_df[lung_2011_df['sex_text'] == 'Female'])\n",
    "\n",
    "#2010 Diabetes\n",
    "gender_count = diabetes_2011_df['sex_text']\n",
    "male_count = len(diabetes_2011_df[diabetes_2011_df['sex_text'] == 'Male'])\n",
    "female_count = len(diabetes_2011_df[diabetes_2011_df['sex_text'] == 'Female'])"
   ]
  },
  {
   "cell_type": "code",
   "execution_count": 62,
   "id": "1b05b7a9-aef9-46ff-a70b-8c1ce4831bba",
   "metadata": {},
   "outputs": [],
   "source": [
    "#Create a new dataframe only for individuals with a cause of death involving the top three causes of death\n",
    "#2012\n",
    "#Heart Disease\n",
    "selected_2012_heart = [\"All other forms of chronic ischemic heart disease (I20,I25.1-I25.9)\",\n",
    "                    \"Acute myocardial infarction (I21-I22)\",\n",
    "                    \"Atherosclerotic cardiovascular disease, so described (I25.0)\",\n",
    "                    \"Congestive heart failure (I50.0)\"]\n",
    "heart_2012_df = clean_2012_DD_df[clean_2012_DD_df[\"358_cause_recode_text\"].isin(selected_2012_heart)]\n",
    "heart_2012_df\n",
    "\n",
    "#Lung\n",
    "#selected_2012_lung = \n",
    "#lung_2012_df = clean_2012_DD_df[clean_2012_DD_df[\"Cause of Death (358)\"].isin(selected_2012_lung)]\n",
    "\n",
    "#Diabetes\n",
    "selected_2012_diabetes = [\"Diabetes mellitus (E10-E14)\"]\n",
    "diabetes_2012_df = clean_2012_DD_df[clean_2012_DD_df[\"358_cause_recode_text\"].isin(selected_2012_diabetes)]"
   ]
  },
  {
   "cell_type": "code",
   "execution_count": 64,
   "id": "ccc5fcff-c015-4b75-a61b-6307c59f1907",
   "metadata": {},
   "outputs": [
    {
     "data": {
      "text/plain": [
       "month_year\n",
       "2012-01-01    32186\n",
       "2012-02-01    29327\n",
       "2012-03-01    31037\n",
       "2012-04-01    29291\n",
       "2012-05-01    29068\n",
       "2012-06-01    27091\n",
       "2012-07-01    27581\n",
       "2012-08-01    27785\n",
       "2012-09-01    27278\n",
       "2012-10-01    29253\n",
       "2012-11-01    29844\n",
       "2012-12-01    33546\n",
       "Name: Death in United States 2012, dtype: int64"
      ]
     },
     "execution_count": 64,
     "metadata": {},
     "output_type": "execute_result"
    }
   ],
   "source": [
    "#PLOT\n",
    "heart_2012_df.groupby('month_year')[\"Death in United States 2012\"].count()\n",
    "#lung_2012_df.groupby('month_year')[\"Death in United States 2012\"].count().plot()\n",
    "#diabetes_2012_df.groupby('month_year')[\"Death in United States 2012\"].count()"
   ]
  },
  {
   "cell_type": "code",
   "execution_count": 42,
   "id": "288413fb-7dee-4abb-a41e-2923d172e428",
   "metadata": {},
   "outputs": [],
   "source": [
    "# Determine the number of top three deaths by sex\n",
    "#2012 Heart\n",
    "gender_count = heart_2012_df['sex_text']\n",
    "male_count = len(heart_2012_df[heart_2012_df['sex_text'] == 'Male'])\n",
    "female_count = len(heart_2012_df[heart_2012_df['sex_text'] == 'Female'])\n",
    " \n",
    "#2012 Lung\n",
    "#gender_count = lung_2012_df['sex_text']\n",
    "#male_count = len(lung_2012_df[lung_2012_df['sex_text'] == 'Male'])\n",
    "#female_count = len(lung_2012_df[lung_2012_df['sex_text'] == 'Female'])\n",
    "\n",
    "#2012 Diabetes\n",
    "gender_count = diabetes_2012_df['sex_text']\n",
    "male_count = len(diabetes_2012_df[diabetes_2012_df['sex_text'] == 'Male'])\n",
    "female_count = len(diabetes_2012_df[diabetes_2012_df['sex_text'] == 'Female'])"
   ]
  },
  {
   "cell_type": "code",
   "execution_count": 43,
   "id": "e456f834-65ee-43fe-964d-471c0efa0f06",
   "metadata": {},
   "outputs": [],
   "source": [
    "#Create a new dataframe only for individuals with a cause of death involving the top three causes of death\n",
    "#2013\n",
    "#Heart Disease\n",
    "selected_2013_heart = [\"All other forms of chronic ischemic heart disease (I20,I25.1-I25.9)\",\n",
    "                    \"Acute myocardial infarction (I21-I22)\",\n",
    "                    \"Atherosclerotic cardiovascular disease, so described (I25.0)\",\n",
    "                    \"Congestive heart failure (I50.0)\"]\n",
    "heart_2013_df = clean_2013_DD_df[clean_2013_DD_df[\"358_cause_recode_text\"].isin(selected_2013_heart)]\n",
    "heart_2013_df\n",
    "\n",
    "#Lung\n",
    "#selected_2013_lung = \n",
    "#lung_2013_df = clean_2013_DD_df[clean_2013_DD_df[\"Cause of Death (358)\"].isin(selected_2013_lung)]\n",
    "\n",
    "#Diabetes\n",
    "selected_2013_diabetes = [\"Diabetes mellitus (E10-E14)\"]\n",
    "diabetes_2013_df = clean_2013_DD_df[clean_2013_DD_df[\"358_cause_recode_text\"].isin(selected_2013_diabetes)]"
   ]
  },
  {
   "cell_type": "code",
   "execution_count": 44,
   "id": "17f242ca-fb2a-4c6e-9b14-e55efc2e12f5",
   "metadata": {},
   "outputs": [
    {
     "data": {
      "text/plain": [
       "<Axes: xlabel='month_year'>"
      ]
     },
     "execution_count": 44,
     "metadata": {},
     "output_type": "execute_result"
    }
   ],
   "source": [
    "#PLOT\n",
    "heart_2013_df.groupby('month_year')[\"Death in United States 2013\"].count().plot()\n",
    "#lung_2013_df.groupby('month_year')[\"Death in United States 2013\"].count().plot()\n",
    "diabetes_2013_df.groupby('month_year')[\"Death in United States 2013\"].count().plot()"
   ]
  },
  {
   "cell_type": "code",
   "execution_count": 45,
   "id": "768ae018-1339-412a-9251-18fcee62cfcf",
   "metadata": {},
   "outputs": [],
   "source": [
    "# Determine the number of top three deaths by sex\n",
    "#2013 Heart\n",
    "gender_count = heart_2013_df['sex_text']\n",
    "male_count = len(heart_2013_df[heart_2013_df['sex_text'] == 'Male'])\n",
    "female_count = len(heart_2013_df[heart_2013_df['sex_text'] == 'Female'])\n",
    " \n",
    "#2013 Lung\n",
    "#gender_count = lung_2013_df['sex_text']\n",
    "#male_count = len(lung_2013_df[lung_2013_df['sex_text'] == 'Male'])\n",
    "#female_count = len(lung_2013_df[lung_2013_df['sex_text'] == 'Female'])\n",
    "\n",
    "#2013 Diabetes\n",
    "gender_count = diabetes_2013_df['sex_text']\n",
    "male_count = len(diabetes_2013_df[diabetes_2013_df['sex_text'] == 'Male'])\n",
    "female_count = len(diabetes_2013_df[diabetes_2013_df['sex_text'] == 'Female'])"
   ]
  },
  {
   "cell_type": "code",
   "execution_count": 46,
   "id": "bf5352bb-8b75-478c-bd17-9cc6f80dbfce",
   "metadata": {},
   "outputs": [],
   "source": [
    "#Create a new dataframe only for individuals with a cause of death involving the top three causes of death\n",
    "#2014\n",
    "#Heart Disease\n",
    "selected_2014_heart = [\"All other forms of chronic ischemic heart disease (I20,I25.1-I25.9)\",\n",
    "                    \"Acute myocardial infarction (I21-I22)\",\n",
    "                    \"Atherosclerotic cardiovascular disease, so described (I25.0)\",\n",
    "                    \"Congestive heart failure (I50.0)\"]\n",
    "heart_2014_df = clean_2014_DD_df[clean_2014_DD_df[\"358_cause_recode_text\"].isin(selected_2014_heart)]\n",
    "heart_2014_df\n",
    "\n",
    "#Lung\n",
    "#selected_2014_lung = \n",
    "#lung_2014_df = clean_2014_DD_df[clean_2014_DD_df[\"Cause of Death (358)\"].isin(selected_2014_lung)]\n",
    "\n",
    "#Diabetes\n",
    "selected_2014_diabetes = [\"Diabetes mellitus (E10-E14)\"]\n",
    "diabetes_2014_df = clean_2014_DD_df[clean_2014_DD_df[\"358_cause_recode_text\"].isin(selected_2014_diabetes)]"
   ]
  },
  {
   "cell_type": "code",
   "execution_count": 47,
   "id": "919c7a1b-35b7-4362-a5ee-9af1eeadb6be",
   "metadata": {},
   "outputs": [
    {
     "data": {
      "text/plain": [
       "<Axes: xlabel='month_year'>"
      ]
     },
     "execution_count": 47,
     "metadata": {},
     "output_type": "execute_result"
    }
   ],
   "source": [
    "#PLOT\n",
    "heart_2014_df.groupby('month_year')[\"Death in United States 2014\"].count().plot()\n",
    "#lung_2014_df.groupby('month_year')[\"Death in United States 2014\"].count().plot()\n",
    "diabetes_2014_df.groupby('month_year')[\"Death in United States 2014\"].count().plot()"
   ]
  },
  {
   "cell_type": "code",
   "execution_count": 48,
   "id": "56352be3-2bd0-4f72-aa0c-eb4621931de2",
   "metadata": {},
   "outputs": [],
   "source": [
    "# Determine the number of top three deaths by sex\n",
    "#2014 Heart\n",
    "gender_count = heart_2014_df['sex_text']\n",
    "male_count = len(heart_2014_df[heart_2014_df['sex_text'] == 'Male'])\n",
    "female_count = len(heart_2014_df[heart_2014_df['sex_text'] == 'Female'])\n",
    " \n",
    "#2014 Lung\n",
    "#gender_count = lung_2014_df['sex_text']\n",
    "#male_count = len(lung_2014_df[lung_2014_df['sex_text'] == 'Male'])\n",
    "#female_count = len(lung_2014_df[lung_2014_df['sex_text'] == 'Female'])\n",
    "\n",
    "#2014 Diabetes\n",
    "gender_count = diabetes_2014_df['sex_text']\n",
    "male_count = len(diabetes_2014_df[diabetes_2014_df['sex_text'] == 'Male'])\n",
    "female_count = len(diabetes_2014_df[diabetes_2014_df['sex_text'] == 'Female'])"
   ]
  },
  {
   "cell_type": "code",
   "execution_count": 49,
   "id": "6f564eea-5a40-43d9-8b19-4b274a1ff17c",
   "metadata": {},
   "outputs": [],
   "source": [
    "#Create a new dataframe only for individuals with a cause of death involving the top three causes of death\n",
    "#2015\n",
    "#Heart Disease\n",
    "selected_2015_heart = [\"All other forms of chronic ischemic heart disease (I20,I25.1-I25.9)\",\n",
    "                    \"Acute myocardial infarction (I21-I22)\",\n",
    "                    \"Atherosclerotic cardiovascular disease, so described (I25.0)\",\n",
    "                    \"Congestive heart failure (I50.0)\"]\n",
    "heart_2015_df = clean_2015_DD_df[clean_2015_DD_df[\"358_cause_recode_text\"].isin(selected_2015_heart)]\n",
    "heart_2015_df\n",
    "\n",
    "#Lung\n",
    "#selected_2015_lung = \n",
    "#lung_2007_df = clean_2015_DD_df[clean_2015_DD_df[\"Cause of Death (358)\"].isin(selected_2015_lung)]\n",
    "\n",
    "#Diabetes\n",
    "selected_2015_diabetes = [\"Diabetes mellitus (E10-E14)\"]\n",
    "diabetes_2015_df = clean_2015_DD_df[clean_2015_DD_df[\"358_cause_recode_text\"].isin(selected_2015_diabetes)]"
   ]
  },
  {
   "cell_type": "code",
   "execution_count": 50,
   "id": "cb30b9b8-5b19-4321-96cc-9b5d0770c64b",
   "metadata": {},
   "outputs": [
    {
     "data": {
      "text/plain": [
       "<Axes: xlabel='month_year'>"
      ]
     },
     "execution_count": 50,
     "metadata": {},
     "output_type": "execute_result"
    }
   ],
   "source": [
    "#PLOT\n",
    "heart_2015_df.groupby('month_year')[\"Death in United States 2015\"].count().plot()\n",
    "#lung_2015_df.groupby('month_year')[\"Death in United States 2015\"].count().plot()\n",
    "diabetes_2015_df.groupby('month_year')[\"Death in United States 2015\"].count().plot()"
   ]
  },
  {
   "cell_type": "code",
   "execution_count": 51,
   "id": "99545516-2cd5-4a47-b6ea-2172194bce69",
   "metadata": {},
   "outputs": [],
   "source": [
    "# Determine the number of top three deaths by sex\n",
    "#2015 Heart\n",
    "gender_count = heart_2015_df['sex_text']\n",
    "male_count = len(heart_2015_df[heart_2015_df['sex_text'] == 'Male'])\n",
    "female_count = len(heart_2015_df[heart_2015_df['sex_text'] == 'Female'])\n",
    " \n",
    "#2015 Lung\n",
    "#gender_count = lung_2015_df['sex_text']\n",
    "#male_count = len(lung_2015_df[lung_2015_df['sex_text'] == 'Male'])\n",
    "#female_count = len(lung_2015_df[lung_2015_df['sex_text'] == 'Female'])\n",
    "\n",
    "#2010 Diabetes\n",
    "gender_count = diabetes_2015_df['sex_text']\n",
    "male_count = len(diabetes_2015_df[diabetes_2015_df['sex_text'] == 'Male'])\n",
    "female_count = len(diabetes_2015_df[diabetes_2015_df['sex_text'] == 'Female'])"
   ]
  },
  {
   "cell_type": "code",
   "execution_count": null,
   "id": "58eb26c0-ac92-4f78-b0bc-daed65e9d9cb",
   "metadata": {},
   "outputs": [],
   "source": []
  },
  {
   "cell_type": "code",
   "execution_count": null,
   "id": "d10991db-a7b9-4d37-89ae-36f00917bd8d",
   "metadata": {},
   "outputs": [],
   "source": []
  }
 ],
 "metadata": {
  "kernelspec": {
   "display_name": "Python 3 (ipykernel)",
   "language": "python",
   "name": "python3"
  },
  "language_info": {
   "codemirror_mode": {
    "name": "ipython",
    "version": 3
   },
   "file_extension": ".py",
   "mimetype": "text/x-python",
   "name": "python",
   "nbconvert_exporter": "python",
   "pygments_lexer": "ipython3",
   "version": "3.10.14"
  }
 },
 "nbformat": 4,
 "nbformat_minor": 5
}
